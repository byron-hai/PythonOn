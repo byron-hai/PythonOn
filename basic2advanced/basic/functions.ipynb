{
 "cells": [
  {
   "cell_type": "markdown",
   "metadata": {},
   "source": [
    "## Functions"
   ]
  },
  {
   "cell_type": "markdown",
   "metadata": {},
   "source": [
    "### 1. variable-length arguments"
   ]
  },
  {
   "cell_type": "code",
   "execution_count": 15,
   "metadata": {},
   "outputs": [
    {
     "name": "stdout",
     "output_type": "stream",
     "text": [
      "All params:  Wang 34 ('Merraied', 'Working in Hangzhou')\n",
      "Name: Li, age: 25\n",
      "hight: 180\n",
      "weight: 73KG\n"
     ]
    }
   ],
   "source": [
    "# Positional arguments\n",
    "def my_func1(val1, val2, *args):\n",
    "    print(\"All params: \", val1, val2, args)\n",
    "\n",
    "# Key words arguments\n",
    "def my_func2(name, age, **kwargs):\n",
    "    print(\"Name: {}, age: {}\".format(name, age))\n",
    "    \n",
    "    for key, val in kwargs.items():\n",
    "        print(\"{}: {}\".format(key, val))\n",
    "\n",
    "my_func1(\"Wang\", 34, 'Merraied', 'Working in Hangzhou')\n",
    "my_func2(\"Li\", 25, hight = 180, weight = '73KG')\n"
   ]
  },
  {
   "cell_type": "markdown",
   "metadata": {},
   "source": [
    "### 2. Namespace"
   ]
  },
  {
   "cell_type": "code",
   "execution_count": 19,
   "metadata": {},
   "outputs": [
    {
     "name": "stdout",
     "output_type": "stream",
     "text": [
      "Build-in list name:  list\n",
      "Out of function: a = 123, b = 456\n",
      "In function: a = 133, b = 111\n",
      "After change value in function: a = 133, b = 456\n"
     ]
    }
   ],
   "source": [
    "a = 123\n",
    "b = 456\n",
    "\n",
    "def change_val():\n",
    "    b = 111\n",
    "    global a\n",
    "    a += 10\n",
    "    \n",
    "    print(\"In function: a = {}, b = {}\".format(a, b))\n",
    "    return\n",
    "print(\"Build-in list name: \", list.__name__)\n",
    "print(\"Out of function: a = {}, b = {}\".format(a, b))\n",
    "change_val()\n",
    "print(\"After change value in function: a = {}, b = {}\".format(a, b))"
   ]
  },
  {
   "cell_type": "markdown",
   "metadata": {},
   "source": [
    "### 3. list compression VS. map"
   ]
  },
  {
   "cell_type": "code",
   "execution_count": 23,
   "metadata": {},
   "outputs": [
    {
     "name": "stdout",
     "output_type": "stream",
     "text": [
      "Time by list compression: 0.9133005142211914\n",
      "Time by map: 1.0207717418670654\n"
     ]
    }
   ],
   "source": [
    "import time\n",
    "\n",
    "def call_list(num):\n",
    "    return [x ** 2 for x in range(num)]\n",
    "\n",
    "def call_map(num):\n",
    "    return list(map(lambda x: x ** 2, list(range(num))))\n",
    "\n",
    "num = 1000000\n",
    "t0 = time.time()\n",
    "s1 = call_list(num)\n",
    "t1 = time.time()\n",
    "s2 = call_map(num)\n",
    "t2 = time.time()\n",
    "\n",
    "assert(s1 == s2)\n",
    "print(\"Time by list compression: {}\\nTime by map: {}\".format(t1 - t0, t2 - t1))"
   ]
  },
  {
   "cell_type": "markdown",
   "metadata": {},
   "source": [
    "### 4. Genertor"
   ]
  },
  {
   "cell_type": "markdown",
   "metadata": {},
   "source": [
    "#### The performance improvement as a result of using generators is because the values are generated on demand, rather than saved as a list in memory. A calculation can begin before all the elements have been generated and elements are generated only when they are needed"
   ]
  },
  {
   "cell_type": "code",
   "execution_count": 1,
   "metadata": {},
   "outputs": [
    {
     "name": "stdout",
     "output_type": "stream",
     "text": [
      "Data length: 9999, Time to generate data by generator: 0.01794886589050293\n",
      "Data length: 9999, Time to generate data without generator: 0.018463134765625\n"
     ]
    }
   ],
   "source": [
    "import random\n",
    "import time\n",
    "\n",
    "def gen_rand1(low, high, num=1):\n",
    "    for i in range(num):\n",
    "        yield random.randint(low, high)\n",
    "\n",
    "def gen_rand2(low, high, num=1):\n",
    "    tar = []\n",
    "    for i in range(num):\n",
    "        tar.append(random.randint(low, high))\n",
    "    return tar\n",
    "\n",
    "low, high = 0, 1000000\n",
    "num = 9999\n",
    "\n",
    "t1 = time.time()\n",
    "l1 = list(gen_rand1(low, high, num))\n",
    "t2 = time.time()\n",
    "l2 = gen_rand2(low, high, num)\n",
    "t3 = time.time()\n",
    "\n",
    "print(\"Data length: {}, Time to generate data by generator: {}\".format(len(l1), (t2 - t1)))\n",
    "print(\"Data length: {}, Time to generate data without generator: {}\".format(len(l2), (t3 - t2)))"
   ]
  },
  {
   "cell_type": "markdown",
   "metadata": {},
   "source": [
    "### 5. Decorator"
   ]
  },
  {
   "cell_type": "code",
   "execution_count": 40,
   "metadata": {},
   "outputs": [
    {
     "name": "stdout",
     "output_type": "stream",
     "text": [
      "Params:  (3, 4) {}\n",
      "3 + 4 = 7\n",
      "wrap\n"
     ]
    }
   ],
   "source": [
    "def decorate_func(func):\n",
    "    def wrap(*args, **kwargs):\n",
    "        print(\"Params: \", args, kwargs)\n",
    "        return func(*args, **kwargs)\n",
    "    return wrap\n",
    "\n",
    "@decorate_func\n",
    "def my_add(a, b):\n",
    "    print(\"{} + {} = {}\".format(a, b, a + b))\n",
    "\n",
    "my_add(3,4)\n",
    "print(my_add.__name__)"
   ]
  },
  {
   "cell_type": "code",
   "execution_count": null,
   "metadata": {},
   "outputs": [],
   "source": []
  },
  {
   "cell_type": "markdown",
   "metadata": {},
   "source": [
    "### functools"
   ]
  },
  {
   "cell_type": "markdown",
   "metadata": {},
   "source": [
    "#### [Ref: functools](https://www.geeksforgeeks.org/functools-module-in-python/)"
   ]
  },
  {
   "cell_type": "code",
   "execution_count": 37,
   "metadata": {},
   "outputs": [
    {
     "name": "stdout",
     "output_type": "stream",
     "text": [
      "9\n",
      "16\n",
      "64\n"
     ]
    }
   ],
   "source": [
    "## partial() is for for particular argument values (less args)\n",
    "from functools import partial\n",
    "\n",
    "def power(a, b):\n",
    "    \"\"\" a to the power of b \"\"\"\n",
    "    return a ** b\n",
    "\n",
    "pow2 = partial(power, b=2)\n",
    "pow3 = partial(power, b=3)\n",
    "\n",
    "print(power(3, 2))\n",
    "print(pow2(4)) \n",
    "print(pow3(4)) # 4 * 4 * 4"
   ]
  },
  {
   "cell_type": "code",
   "execution_count": 38,
   "metadata": {},
   "outputs": [
    {
     "name": "stdout",
     "output_type": "stream",
     "text": [
      " a to the power of b \n",
      "partial(func, *args, **keywords) - new function with partial application\n",
      "    of the given arguments and keywords.\n",
      "\n",
      " a to the power of b \n"
     ]
    }
   ],
   "source": [
    "## update_wrapper. This will update the __doc__ and __name__ of wrapped function to same as of the original function\n",
    "from functools import update_wrapper\n",
    "print(power.__doc__)\n",
    "print(pow2.__doc__)\n",
    "\n",
    "update_wrapper(pow2, power)\n",
    "print(pow2.__doc__)"
   ]
  },
  {
   "cell_type": "code",
   "execution_count": 5,
   "metadata": {},
   "outputs": [
    {
     "name": "stdout",
     "output_type": "stream",
     "text": [
      "[Debug] Params:  (2,) {}\n",
      "Desc of my_func: xxxx\n",
      "my_func\n"
     ]
    }
   ],
   "source": [
    "## wraps It is a function decorator which applies update_wrapper() to the decorated function.\n",
    "from functools import wraps\n",
    "\n",
    "def decorator(func):\n",
    "    @wraps(func)\n",
    "    def decorated(*args, **kwargs):\n",
    "        print(\"[Debug] Params: \", args, kwargs)\n",
    "        return func(*args, **kwargs)\n",
    "    return decorated\n",
    "\n",
    "@decorator\n",
    "def my_func(param, *args, **kwargs):\n",
    "    \"\"\"Desc of my_func: xxxx\"\"\"\n",
    "    return param\n",
    "\n",
    "my_func(2)\n",
    "print(my_func.__doc__)\n",
    "print(my_func.__name__)\n"
   ]
  },
  {
   "cell_type": "code",
   "execution_count": 7,
   "metadata": {},
   "outputs": [
    {
     "data": {
      "text/plain": [
       "<Signature (param, *args, **kwargs)>"
      ]
     },
     "execution_count": 7,
     "metadata": {},
     "output_type": "execute_result"
    }
   ],
   "source": [
    "from inspect import signature\n",
    "\n",
    "signature(my_func)"
   ]
  },
  {
   "cell_type": "markdown",
   "metadata": {},
   "source": [
    "### Anonymous function"
   ]
  },
  {
   "cell_type": "code",
   "execution_count": 46,
   "metadata": {},
   "outputs": [
    {
     "name": "stdout",
     "output_type": "stream",
     "text": [
      "25\n"
     ]
    }
   ],
   "source": [
    "power_add = lambda a, b: a ** 2 + b ** 2\n",
    "\n",
    "print(power_add(3,4))"
   ]
  }
 ],
 "metadata": {
  "kernelspec": {
   "display_name": "Python 3",
   "language": "python",
   "name": "python3"
  },
  "language_info": {
   "codemirror_mode": {
    "name": "ipython",
    "version": 3
   },
   "file_extension": ".py",
   "mimetype": "text/x-python",
   "name": "python",
   "nbconvert_exporter": "python",
   "pygments_lexer": "ipython3",
   "version": "3.7.3"
  }
 },
 "nbformat": 4,
 "nbformat_minor": 2
}

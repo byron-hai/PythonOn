{
 "cells": [
  {
   "cell_type": "markdown",
   "metadata": {},
   "source": [
    "### random"
   ]
  },
  {
   "cell_type": "code",
   "execution_count": 20,
   "metadata": {},
   "outputs": [
    {
     "name": "stdout",
     "output_type": "stream",
     "text": [
      "6\n",
      "[9, 4, 7]\n",
      "[9, 4, 3, 7, 2, 6]\n"
     ]
    },
    {
     "data": {
      "text/plain": [
       "8"
      ]
     },
     "execution_count": 20,
     "metadata": {},
     "output_type": "execute_result"
    }
   ],
   "source": [
    "import random\n",
    "\n",
    "val = [2, 4, 6, 3, 7, 9]\n",
    "print(random.choice(val))\n",
    "print(random.sample(val, 3))\n",
    "random.shuffle(val)\n",
    "print(val)\n",
    "random.randint(2, 8)"
   ]
  },
  {
   "cell_type": "markdown",
   "metadata": {},
   "source": [
    "### pickle"
   ]
  },
  {
   "cell_type": "code",
   "execution_count": 22,
   "metadata": {},
   "outputs": [
    {
     "name": "stdout",
     "output_type": "stream",
     "text": [
      "String not changed\n"
     ]
    }
   ],
   "source": [
    "import pickle\n",
    "\n",
    "def pickling2file(tar_obj, filename):\n",
    "    fw = open(filename, 'wb')\n",
    "    pickle.dump(tar_obj, fw)\n",
    "\n",
    "def unpickling_file(pickled_file):\n",
    "    fr = open(pickled_file, 'rb')\n",
    "    return pickle.load(fr)\n",
    "\n",
    "string = u'dfe \\b dgrg\\n vvdv\\t{}&&**'\n",
    "pickling2file(string, 'mypickle.pickle')\n",
    "str2 = unpickling_file('mypickle.pickle')\n",
    "assert(string == str2)\n",
    "print(\"String not changed\")"
   ]
  },
  {
   "cell_type": "markdown",
   "metadata": {},
   "source": [
    "### copy"
   ]
  },
  {
   "cell_type": "code",
   "execution_count": 4,
   "metadata": {},
   "outputs": [
    {
     "name": "stdout",
     "output_type": "stream",
     "text": [
      "l1:  [2, 4, 5, [1, 3], 8]\n",
      "l1:  [2, 4, 5, [1, 3, 6], 8]\n",
      "l2:  [2, 4, 5, [1, 3, 6], 8, 9]\n",
      "l3:  [2, 4, 44, [1, 3], 8]\n"
     ]
    }
   ],
   "source": [
    "import copy\n",
    "\n",
    "l1 = [2, 4, 5, [1,3], 8]\n",
    "l2 = copy.copy(l1)\n",
    "l3 = copy.deepcopy(l1)\n",
    "print(\"l1: \", l1)\n",
    "l2.append(9)\n",
    "l1[3].append(6)\n",
    "l3[2] = 44\n",
    "print(\"l1: \", l1)\n",
    "print(\"l2: \", l2)\n",
    "print(\"l3: \", l3)\n",
    "\n"
   ]
  },
  {
   "cell_type": "markdown",
   "metadata": {},
   "source": [
    "### Collections"
   ]
  },
  {
   "cell_type": "code",
   "execution_count": 5,
   "metadata": {},
   "outputs": [
    {
     "name": "stdout",
     "output_type": "stream",
     "text": [
      "key       values    \n",
      "one       AAAA      \n",
      "two       BBB       \n",
      "three     CCC       \n"
     ]
    }
   ],
   "source": [
    "## OrderedDict()\n",
    "from collections import OrderedDict\n",
    "\n",
    "od1 = OrderedDict()\n",
    "od1[\"one\"] = \"AAAA\"\n",
    "od1['two'] = \"BBB\"\n",
    "od1['three'] = 'CCC'\n",
    "\n",
    "print(\"{:<10s}{:10s}\".format('key', 'values'))\n",
    "for k, v in od1.items():\n",
    "    print(\"{:<10s}{:10s}\".format(k, v))"
   ]
  },
  {
   "cell_type": "markdown",
   "metadata": {},
   "source": [
    "### regular expression"
   ]
  },
  {
   "cell_type": "code",
   "execution_count": 1,
   "metadata": {},
   "outputs": [],
   "source": [
    "import re\n"
   ]
  },
  {
   "cell_type": "code",
   "execution_count": 5,
   "metadata": {},
   "outputs": [
    {
     "data": {
      "text/plain": [
       "array('f', [0.0, 1.0, 2.0, 3.0, 4.0, 5.0, 6.0, 7.0, 8.0, 9.0])"
      ]
     },
     "execution_count": 5,
     "metadata": {},
     "output_type": "execute_result"
    }
   ],
   "source": [
    "from array import array\n",
    "## array??\n",
    "array('f', range(10))"
   ]
  }
 ],
 "metadata": {
  "kernelspec": {
   "display_name": "Python 3",
   "language": "python",
   "name": "python3"
  },
  "language_info": {
   "codemirror_mode": {
    "name": "ipython",
    "version": 3
   },
   "file_extension": ".py",
   "mimetype": "text/x-python",
   "name": "python",
   "nbconvert_exporter": "python",
   "pygments_lexer": "ipython3",
   "version": "3.7.3"
  }
 },
 "nbformat": 4,
 "nbformat_minor": 2
}

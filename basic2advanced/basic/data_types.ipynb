{
 "cells": [
  {
   "cell_type": "markdown",
   "metadata": {},
   "source": [
    "## Data types"
   ]
  },
  {
   "cell_type": "markdown",
   "metadata": {},
   "source": [
    "### 1. numeric"
   ]
  },
  {
   "cell_type": "markdown",
   "metadata": {},
   "source": [
    "### 1.1 int"
   ]
  },
  {
   "cell_type": "code",
   "execution_count": 73,
   "metadata": {},
   "outputs": [
    {
     "name": "stdout",
     "output_type": "stream",
     "text": [
      "0b100\n",
      "0x12\n"
     ]
    }
   ],
   "source": [
    "print(bin(4))\n",
    "print(hex(18))"
   ]
  },
  {
   "cell_type": "markdown",
   "metadata": {},
   "source": [
    "### 1.2 float"
   ]
  },
  {
   "cell_type": "code",
   "execution_count": 74,
   "metadata": {},
   "outputs": [
    {
     "data": {
      "text/plain": [
       "'34.00'"
      ]
     },
     "execution_count": 74,
     "metadata": {},
     "output_type": "execute_result"
    }
   ],
   "source": [
    "\"{:<4.2f}\".format(34)"
   ]
  },
  {
   "cell_type": "markdown",
   "metadata": {},
   "source": [
    "### 1.3 complex"
   ]
  },
  {
   "cell_type": "markdown",
   "metadata": {},
   "source": [
    "### 1.4 bool"
   ]
  },
  {
   "cell_type": "code",
   "execution_count": 80,
   "metadata": {},
   "outputs": [
    {
     "name": "stdout",
     "output_type": "stream",
     "text": [
      "True\n",
      "True\n",
      "True\n",
      "False\n"
     ]
    }
   ],
   "source": [
    "a = 3\n",
    "b = a\n",
    "c = 3\n",
    "print(a is b)\n",
    "print(a is c)\n",
    "print(a == c)\n",
    "print(c == '3')"
   ]
  },
  {
   "cell_type": "markdown",
   "metadata": {},
   "source": [
    "### 2. Sequence"
   ]
  },
  {
   "cell_type": "markdown",
   "metadata": {},
   "source": [
    "### 2.1 str"
   ]
  },
  {
   "cell_type": "code",
   "execution_count": 67,
   "metadata": {},
   "outputs": [
    {
     "data": {
      "text/plain": [
       "'Efee'"
      ]
     },
     "execution_count": 67,
     "metadata": {},
     "output_type": "execute_result"
    }
   ],
   "source": [
    "\"efee\".capitalize()"
   ]
  },
  {
   "cell_type": "code",
   "execution_count": 109,
   "metadata": {},
   "outputs": [
    {
     "data": {
      "text/plain": [
       "'vee-vdve'"
      ]
     },
     "execution_count": 109,
     "metadata": {},
     "output_type": "execute_result"
    }
   ],
   "source": [
    "\"-\".join(['vee', 'vdve'])"
   ]
  },
  {
   "cell_type": "code",
   "execution_count": 113,
   "metadata": {},
   "outputs": [
    {
     "data": {
      "text/plain": [
       "'Target AAA, percentage:   43.00%'"
      ]
     },
     "execution_count": 113,
     "metadata": {},
     "output_type": "execute_result"
    }
   ],
   "source": [
    "# f-string formatting has a better performance\n",
    "var = 'AAA'\n",
    "num = 323.3434\n",
    "pnt = 0.43\n",
    "f'Target {var}, value: {num:8.2f}'\n",
    "f'Target {var}, percentage: {pnt:8.2%}'"
   ]
  },
  {
   "cell_type": "code",
   "execution_count": 116,
   "metadata": {},
   "outputs": [
    {
     "data": {
      "text/plain": [
       "'Tim like Meat'"
      ]
     },
     "execution_count": 116,
     "metadata": {},
     "output_type": "execute_result"
    }
   ],
   "source": [
    "# string, use $id to represent variables\n",
    "\n",
    "from string import Template\n",
    "\n",
    "tmpt = Template('$name likes $val')\n",
    "tmpt.substitute(name = 'Tim', val = 'Meat')\n"
   ]
  },
  {
   "cell_type": "code",
   "execution_count": null,
   "metadata": {},
   "outputs": [],
   "source": []
  },
  {
   "cell_type": "markdown",
   "metadata": {},
   "source": [
    "### 2.2 list"
   ]
  },
  {
   "cell_type": "markdown",
   "metadata": {},
   "source": [
    "#### In Python, lists implementation is different when compared to other languages. Python does not create multiple copies of a variable. For example, when we assign a value of one variable in another variable, both variables point to the same memory address where the value is stored. "
   ]
  },
  {
   "cell_type": "code",
   "execution_count": 82,
   "metadata": {},
   "outputs": [
    {
     "name": "stdout",
     "output_type": "stream",
     "text": [
      "[0, 2, 4, 6, 8]\n"
     ]
    }
   ],
   "source": [
    "## list compression\n",
    "\n",
    "li = [x for x in range(10) if x % 2 == 0]\n",
    "print(li)"
   ]
  },
  {
   "cell_type": "code",
   "execution_count": 105,
   "metadata": {},
   "outputs": [
    {
     "name": "stdout",
     "output_type": "stream",
     "text": [
      "Reversed s:  [4, 7, 1, 6, 5, 2]\n",
      "Sorted s:  [1, 2, 4, 5, 6, 7]\n",
      "[1, 2, 4, 5, 6, 7, 23, 45, 56]\n"
     ]
    }
   ],
   "source": [
    "s = [2,5,6,1,7,4]\n",
    "s.reverse()\n",
    "print(\"Reversed s: \", s)\n",
    "s.sort()\n",
    "print(\"Sorted s: \", s)\n",
    "s2 = [23, 45, 56]\n",
    "print(s + s2)"
   ]
  },
  {
   "cell_type": "code",
   "execution_count": 106,
   "metadata": {},
   "outputs": [
    {
     "name": "stdout",
     "output_type": "stream",
     "text": [
      "['dv vrbr', 'cdvve', 'SDF', 'cd']\n",
      "['cd', 'SDF', 'cdvve', 'dv vrbr']\n",
      "['SDF', 'cd', 'cdvve', 'dv vrbr']\n"
     ]
    }
   ],
   "source": [
    "# list.sort(key='', reverse=False), sorted(key='', reverse=False)\n",
    "import copy\n",
    "\n",
    "s1 = ['cd', 'SDF', 'cdvve', 'dv vrbr']\n",
    "s2 = copy.deepcopy(s1)\n",
    "\n",
    "s1.sort(key=len, reverse=True)\n",
    "print(s1)\n",
    "s3 = sorted(s2, key=lambda x: x[0])\n",
    "print(s2)\n",
    "print(s3)"
   ]
  },
  {
   "cell_type": "markdown",
   "metadata": {},
   "source": [
    "### 2.3 tuple"
   ]
  },
  {
   "cell_type": "code",
   "execution_count": 87,
   "metadata": {},
   "outputs": [
    {
     "name": "stdout",
     "output_type": "stream",
     "text": [
      "Type of (3,): <class 'tuple'>, type of 3: <class 'int'>\n"
     ]
    }
   ],
   "source": [
    "t1 = tuple()\n",
    "t1 = (3,)\n",
    "t2 = 3\n",
    "print(\"Type of (3,): %s, type of 3: %s\" % (type(t1), type(t2)))"
   ]
  },
  {
   "cell_type": "markdown",
   "metadata": {},
   "source": [
    "### 2.4 dict"
   ]
  },
  {
   "cell_type": "code",
   "execution_count": 108,
   "metadata": {},
   "outputs": [
    {
     "name": "stdout",
     "output_type": "stream",
     "text": [
      "{'a': 0, 'b': 1, 'c': 2, 'd': 3, 'e': 4}\n",
      "a 0\n",
      "b 1\n",
      "c 2\n",
      "d 3\n",
      "e 4\n"
     ]
    }
   ],
   "source": [
    "d1 = dict(zip('abcde', range(5)))\n",
    "print(d1)\n",
    "'a' in d1\n",
    "\n",
    "for k, v in d1.items():\n",
    "    print(k, v)"
   ]
  },
  {
   "cell_type": "code",
   "execution_count": 91,
   "metadata": {},
   "outputs": [
    {
     "name": "stdout",
     "output_type": "stream",
     "text": [
      "['C', 'D', 'M', 'N']\n",
      "['D', 'M', 'C', 'N']\n"
     ]
    }
   ],
   "source": [
    "d = {'M': 234, 'C': 341, 'D': 124, 'N': 425}\n",
    "print(sorted(d))\n",
    "print(sorted(d, key = lambda x: d[x]))"
   ]
  },
  {
   "cell_type": "code",
   "execution_count": 102,
   "metadata": {},
   "outputs": [
    {
     "data": {
      "text/plain": [
       "{'Notice': 1,\n",
       " 'also': 1,\n",
       " 'in': 2,\n",
       " 'the': 4,\n",
       " 'preceding': 1,\n",
       " 'code': 1,\n",
       " 'that': 3,\n",
       " 'when': 1,\n",
       " 'we': 2,\n",
       " 'print': 1,\n",
       " 'out': 1,\n",
       " 'union': 1,\n",
       " 'of': 4,\n",
       " 's1': 1,\n",
       " 'and': 1,\n",
       " 's2,': 1,\n",
       " 'there': 2,\n",
       " 'is': 2,\n",
       " 'only': 1,\n",
       " 'one': 1,\n",
       " 'element': 1,\n",
       " 'with': 1,\n",
       " 'value': 1,\n",
       " \"'ab'.\": 1,\n",
       " 'This': 1,\n",
       " 'a': 3,\n",
       " 'natural': 1,\n",
       " 'property': 1,\n",
       " 'sets': 1,\n",
       " 'they': 1,\n",
       " 'do': 1,\n",
       " 'not': 1,\n",
       " 'include': 1,\n",
       " 'duplicates.': 1,\n",
       " 'In': 1,\n",
       " 'addition': 1,\n",
       " 'to': 2,\n",
       " 'these': 1,\n",
       " 'built-in': 1,\n",
       " 'methods,': 1,\n",
       " 'are': 1,\n",
       " 'number': 1,\n",
       " 'other': 1,\n",
       " 'operations': 1,\n",
       " 'can': 1,\n",
       " 'perform': 1,\n",
       " 'on': 1,\n",
       " 'sets.': 1,\n",
       " 'For': 1,\n",
       " 'example,': 1,\n",
       " 'test': 1,\n",
       " 'for': 1,\n",
       " 'membership': 1,\n",
       " 'set,': 1,\n",
       " 'use': 1,\n",
       " 'following:': 1}"
      ]
     },
     "execution_count": 102,
     "metadata": {},
     "output_type": "execute_result"
    }
   ],
   "source": [
    "# Word count\n",
    "def word_count(fname):\n",
    "    try:\n",
    "        with open(fname, 'rt') as fr:\n",
    "            lines = fr.readlines()\n",
    "    \n",
    "    except OSError as err:\n",
    "        print(err)\n",
    "    \n",
    "    count = dict()\n",
    "    for line in lines:\n",
    "        words = line.split()\n",
    "        for word in words:\n",
    "            count[word] = 1 if word not in count else count[word]+1\n",
    "    return count\n",
    "\n",
    "word_count(\"word_count.txt\")"
   ]
  },
  {
   "cell_type": "markdown",
   "metadata": {},
   "source": [
    "### 2.5 set"
   ]
  },
  {
   "cell_type": "code",
   "execution_count": 104,
   "metadata": {},
   "outputs": [
    {
     "name": "stdout",
     "output_type": "stream",
     "text": [
      "s3: {'watermelon', 'pineapple', 'peach', 'apple', 'cherry', 'pear', 'banana'}\n",
      "s4: {'apple', 'cherry'}\n",
      "s5: {'watermelon', 'pear', 'pineapple'}\n"
     ]
    }
   ],
   "source": [
    "s1 = set(['apple', 'peach', 'cherry', 'banana'])\n",
    "s2 = set(['watermelon', 'pineapple', 'pear', 'apple', 'cherry'])\n",
    "s3 = s1 | s2\n",
    "s4 = s1 & s2\n",
    "s5 = s2 - s1\n",
    "print(\"s3: {}\\ns4: {}\\ns5: {}\".format(s3, s4, s5))"
   ]
  }
 ],
 "metadata": {
  "kernelspec": {
   "display_name": "Python 3",
   "language": "python",
   "name": "python3"
  },
  "language_info": {
   "codemirror_mode": {
    "name": "ipython",
    "version": 3
   },
   "file_extension": ".py",
   "mimetype": "text/x-python",
   "name": "python",
   "nbconvert_exporter": "python",
   "pygments_lexer": "ipython3",
   "version": "3.7.3"
  }
 },
 "nbformat": 4,
 "nbformat_minor": 2
}

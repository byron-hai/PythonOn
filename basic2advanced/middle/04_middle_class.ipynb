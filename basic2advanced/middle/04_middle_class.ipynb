{
 "cells": [
  {
   "cell_type": "markdown",
   "metadata": {},
   "source": [
    "## OOP -- Class"
   ]
  },
  {
   "cell_type": "markdown",
   "metadata": {},
   "source": [
    "### specialization"
   ]
  },
  {
   "cell_type": "code",
   "execution_count": 1,
   "metadata": {},
   "outputs": [],
   "source": [
    "## 1）Special methods (magic mathod)\n",
    "## 2) Inheritance\n",
    "## 3) static method / class method"
   ]
  },
  {
   "cell_type": "code",
   "execution_count": 2,
   "metadata": {},
   "outputs": [
    {
     "name": "stdout",
     "output_type": "stream",
     "text": [
      "Word\n",
      "ddd\n",
      "'ddvv'\n"
     ]
    }
   ],
   "source": [
    "## 1) Special methods\n",
    "## __eq__(self, other)            self == other\n",
    "## __ne__(self, other)            self != other\n",
    "## __lt/gt/le/ge__(self, other)   self </>/<=/>= other\n",
    "## __add/sub/mul__(self, other)   self +/-/* other\n",
    "## __floordiv__(self, other)      self // other  (return int)\n",
    "## __truediv__(self, other)       self / other  (return float)\n",
    "## __mod__(self, other)           self % other\n",
    "## __pow__(self, other)           self ** other\n",
    "\n",
    "## __str__(self)                  str(self)\n",
    "## __repr__(self)                 repr(self)\n",
    "## __len__(self)                  len(self)\n",
    "## __iter__(self)                 iter(seq)\n",
    "## __getitem__(self, index)       support index\n",
    "## 函数str() 用于将值转化为适于人阅读的形式，而repr() 转化为供解释器读取的形式\n",
    "\n",
    "class Word:\n",
    "    def __init__(self, text):\n",
    "        self.text = text\n",
    "        \n",
    "    def __str__(self):\n",
    "        return self.text\n",
    "    \n",
    "    def __repr__(self):\n",
    "        return \"Word: \" + self.text\n",
    "    \n",
    "w = Word(\"Word\")\n",
    "print(w) # Call __str__\n",
    "w        # Call __repr__\n",
    "print(str(\"ddd\"))\n",
    "print(repr(\"ddvv\"))"
   ]
  },
  {
   "cell_type": "markdown",
   "metadata": {},
   "source": [
    "### Inheritance"
   ]
  },
  {
   "cell_type": "code",
   "execution_count": 3,
   "metadata": {},
   "outputs": [
    {
     "name": "stdout",
     "output_type": "stream",
     "text": [
      "40.00 hours worked. Bonus is 320.00\n",
      "352.0\n"
     ]
    }
   ],
   "source": [
    "class Employee:\n",
    "    numEmployee = 0\n",
    "    def __init__(self, name, rate):\n",
    "        self.owned = 0\n",
    "        self.name = name\n",
    "        self.rate = rate\n",
    "        Employee.numEmployee += 1\n",
    "\n",
    "    @classmethod\n",
    "    def __del__(cls):\n",
    "        cls.numEmployee -= 1\n",
    "    \n",
    "    def hours(self, numHours):\n",
    "        self.owned += numHours * self.rate\n",
    "        return \"%.2f hours worked\" % numHours\n",
    "    \n",
    "    def pay(self):\n",
    "        self.owned = 0\n",
    "        return \"Payed %s\" % self.name\n",
    "    \n",
    "class SpecialEmployee(Employee):\n",
    "    def __init__(self, name, rate, bonus):\n",
    "        Employee.__init__(self, name, rate)\n",
    "        self.bonus = bonus\n",
    "    \n",
    "    def hours(self, numHours):\n",
    "        self.owned += numHours * self.rate + self.bonus\n",
    "        return(\"%.2f hours worked. Bonus is %.2f\" % (numHours, self.bonus))\n",
    "\n",
    "Li = SpecialEmployee(\"Li Ming\", 0.8, 320)\n",
    "Li.pay()\n",
    "print(Li.hours(40))\n",
    "print(Li.owned)"
   ]
  },
  {
   "cell_type": "markdown",
   "metadata": {},
   "source": [
    "### methods"
   ]
  },
  {
   "cell_type": "code",
   "execution_count": 4,
   "metadata": {},
   "outputs": [],
   "source": [
    "## 3) Static method / Class method\n",
    "## Class methods are defined using the @classmethod decorator and are distinguished from instance methods in the class. \n",
    "## It is passed as the first argument, and this is named cls by convention\n",
    "\n",
    "## The difference between a static method and a class method is that a static method doesn't know anything about the class, \n",
    "## it only deals with the parameters, \n",
    "## whereas the class method works only with the class, and its parameter is always the class itself. "
   ]
  },
  {
   "cell_type": "code",
   "execution_count": 7,
   "metadata": {},
   "outputs": [
    {
     "name": "stdout",
     "output_type": "stream",
     "text": [
      "'vdv'\n",
      "1\n",
      "2\n",
      "3\n",
      "4\n"
     ]
    }
   ],
   "source": [
    "ss = repr(\"vdv\")\n",
    "print(ss)\n",
    "str(\"cdfdf\")\n",
    "for i in iter([1,2,3,4]): print(i)"
   ]
  },
  {
   "cell_type": "code",
   "execution_count": 19,
   "metadata": {},
   "outputs": [],
   "source": [
    "\"\"\"\n",
    "Additional\n",
    "\n",
    "Python 用下划线作为变量前缀和后缀指定特殊变量。\n",
    "\n",
    "\n",
    "1) _xxx 不能用'from moduleimport *'导入\n",
    "2) __xxx__ 系统定义名字(类似于java 的default修饰）\n",
    "3) __xxx 类中的私有变量名（类似于java的private修饰）\n",
    "\"\"\"\n",
    "\n",
    "class Foo:\n",
    "    #__slots__ = ('__val1', '__val2')  # 程序优化， 约束参数个数，减少内存使用\n",
    "    def __init__(self, val1, val2):\n",
    "        self.__val1 = val1\n",
    "        self.__val2 = val2\n",
    "    \n",
    "    @property\n",
    "    def val1(self):\n",
    "        return self.__val1\n",
    "    \n",
    "    @property\n",
    "    def val2(self):\n",
    "        return self.__val2\n",
    "    \n",
    "    @val1.setter\n",
    "    def val1(self, val):\n",
    "        self.__val1 = val\n",
    "        \n",
    "    @val2.setter\n",
    "    def val2(self, val):\n",
    "        self.__val2 = val2"
   ]
  },
  {
   "cell_type": "code",
   "execution_count": 12,
   "metadata": {},
   "outputs": [
    {
     "data": {
      "text/plain": [
       "'AA'"
      ]
     },
     "execution_count": 12,
     "metadata": {},
     "output_type": "execute_result"
    }
   ],
   "source": [
    "fo = Foo('a', 'b')\n",
    "fo.val1 = 'AA'\n",
    "fo.val1"
   ]
  }
 ],
 "metadata": {
  "kernelspec": {
   "display_name": "Python 3",
   "language": "python",
   "name": "python3"
  },
  "language_info": {
   "codemirror_mode": {
    "name": "ipython",
    "version": 3
   },
   "file_extension": ".py",
   "mimetype": "text/x-python",
   "name": "python",
   "nbconvert_exporter": "python",
   "pygments_lexer": "ipython3",
   "version": "3.7.3"
  }
 },
 "nbformat": 4,
 "nbformat_minor": 2
}

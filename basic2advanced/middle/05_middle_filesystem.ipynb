{
 "cells": [
  {
   "cell_type": "code",
   "execution_count": 2,
   "metadata": {},
   "outputs": [
    {
     "data": {
      "text/plain": [
       "['.ipynb_checkpoints',\n",
       " '01_basic_data-types.ipynb',\n",
       " '02_basic_function.ipynb',\n",
       " '03_basic_modules.ipynb',\n",
       " '04_basic_class.ipynb',\n",
       " '05_basic_file-handling.ipynb',\n",
       " '06_advanced_design_pattern.ipynb',\n",
       " '07_advanced_thread.ipynb',\n",
       " '08_advanced_process.ipynb',\n",
       " 'algorithm.ipynb',\n",
       " 'data-structure .ipynb',\n",
       " 'data_types_and_structure.ipynb',\n",
       " 'mypickle.pickle',\n",
       " 'README.txt',\n",
       " 'word_count.txt']"
      ]
     },
     "execution_count": 2,
     "metadata": {},
     "output_type": "execute_result"
    }
   ],
   "source": [
    "import os\n",
    "\n",
    "os.listdir()"
   ]
  }
 ],
 "metadata": {
  "kernelspec": {
   "display_name": "Python 3",
   "language": "python",
   "name": "python3"
  },
  "language_info": {
   "codemirror_mode": {
    "name": "ipython",
    "version": 3
   },
   "file_extension": ".py",
   "mimetype": "text/x-python",
   "name": "python",
   "nbconvert_exporter": "python",
   "pygments_lexer": "ipython3",
   "version": "3.7.3"
  }
 },
 "nbformat": 4,
 "nbformat_minor": 2
}

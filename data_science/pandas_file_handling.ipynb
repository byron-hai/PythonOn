{
 "cells": [
  {
   "cell_type": "code",
   "execution_count": 2,
   "metadata": {},
   "outputs": [],
   "source": [
    "import pandas as pd"
   ]
  },
  {
   "cell_type": "markdown",
   "metadata": {},
   "source": [
    "### CSV"
   ]
  },
  {
   "cell_type": "code",
   "execution_count": 22,
   "metadata": {},
   "outputs": [
    {
     "data": {
      "text/plain": [
       "(3961, 16)"
      ]
     },
     "execution_count": 22,
     "metadata": {},
     "output_type": "execute_result"
    }
   ],
   "source": [
    "file_path = \"archive/russian_passenger_air_service_2.csv\"\n",
    "frame = pd.read_csv(file_path)\n",
    "frame.shape"
   ]
  },
  {
   "cell_type": "code",
   "execution_count": 45,
   "metadata": {},
   "outputs": [
    {
     "data": {
      "text/plain": [
       "Index(['Airport name', 'Year', 'January', 'February', 'March', 'April', 'May',\n",
       "       'June', 'July', 'August', 'September', 'October', 'November',\n",
       "       'December', 'Whole year', 'Airport coordinates'],\n",
       "      dtype='object')"
      ]
     },
     "execution_count": 45,
     "metadata": {},
     "output_type": "execute_result"
    }
   ],
   "source": [
    "frame.columns"
   ]
  },
  {
   "cell_type": "code",
   "execution_count": 29,
   "metadata": {},
   "outputs": [],
   "source": [
    "data_4years = frame.where(frame.Year > 2016).dropna()\n",
    "data_4years.shape\n",
    "data_4years.to_csv(\"archive/russian_passenger_latest4years.csv\", index=False, columns=frame.columns[:-1])"
   ]
  },
  {
   "cell_type": "markdown",
   "metadata": {},
   "source": [
    "### Binary pickled file"
   ]
  },
  {
   "cell_type": "code",
   "execution_count": 47,
   "metadata": {},
   "outputs": [],
   "source": [
    "data = pd.read_csv(\"archive/russian_passenger_latest4years.csv\")\n",
    "data.to_pickle(\"archive/russian_passenger_latest4years_pickle\")\n"
   ]
  },
  {
   "cell_type": "code",
   "execution_count": 53,
   "metadata": {},
   "outputs": [
    {
     "data": {
      "text/plain": [
       "pandas.core.frame.DataFrame"
      ]
     },
     "execution_count": 53,
     "metadata": {},
     "output_type": "execute_result"
    }
   ],
   "source": [
    "import pickle\n",
    "with open(\"archive/russian_passenger_latest4years_pickle\", 'rb') as bin_file:\n",
    "    pkl_data = pickle.load(bin_file)\n",
    "type(data)"
   ]
  },
  {
   "cell_type": "code",
   "execution_count": 54,
   "metadata": {},
   "outputs": [
    {
     "data": {
      "text/plain": [
       "pandas.core.frame.DataFrame"
      ]
     },
     "execution_count": 54,
     "metadata": {},
     "output_type": "execute_result"
    }
   ],
   "source": [
    "pickle_data = pd.read_pickle(\"archive/russian_passenger_latest4years_pickle\")\n",
    "type(pickle_data)"
   ]
  },
  {
   "cell_type": "code",
   "execution_count": 59,
   "metadata": {
    "scrolled": false
   },
   "outputs": [
    {
     "name": "stdout",
     "output_type": "stream",
     "text": [
      "pkl_data and pickle_data are same\n"
     ]
    }
   ],
   "source": [
    "from pandas.testing import assert_frame_equal\n",
    "assert_frame_equal(pkl_data, pickle_data)\n",
    "print(\"pkl_data and pickle_data are same\")"
   ]
  },
  {
   "cell_type": "markdown",
   "metadata": {},
   "source": [
    "### Excel"
   ]
  },
  {
   "cell_type": "code",
   "execution_count": 98,
   "metadata": {
    "scrolled": false
   },
   "outputs": [],
   "source": [
    "from openpyxl import load_workbook\n",
    "\n",
    "excel_file = \"archive/pandas add new sheet.xlsx\"\n",
    "demo_data = pd.read_excel(excel_file, 'demo', keep_default_na=False)\n",
    "data_new = demo_data.copy()\n",
    "\n",
    "book = load_workbook(excel_file)\n",
    "writer = pd.ExcelWriter(excel_file, engine='openpyxl')\n",
    "writer.book = book\n",
    "\n",
    "data_new['Working years'] = 0\n",
    "data_new['Education'] = \"\"\n",
    "data_new.to_excel(writer, 'new', index=False)\n",
    "writer.save()\n"
   ]
  },
  {
   "cell_type": "markdown",
   "metadata": {},
   "source": [
    "### HDF5"
   ]
  },
  {
   "cell_type": "code",
   "execution_count": 3,
   "metadata": {
    "scrolled": true
   },
   "outputs": [],
   "source": [
    "data = pd.read_csv(\"archive/russian_passenger_latest4years.csv\")\n",
    "group = data.groupby('Year')\n",
    "year_min, year_max = group.max(), group.min()\n",
    "\n",
    "store = pd.HDFStore(\"archive/pandas_hdf_data.h5\")\n",
    "store.put(\"year_data\", data, format='table')\n",
    "store.put(\"year_min\", year_min, format='table')\n",
    "store.put(\"year_max\", year_max, format='table')\n",
    "store.close()"
   ]
  },
  {
   "cell_type": "code",
   "execution_count": 11,
   "metadata": {},
   "outputs": [],
   "source": [
    "#data_rd = pd.read_hdf(\"archive/pandas_hdf_data.h5\", 'year_data')\n",
    "#data_max_rd = pd.read_hdf(\"archive/pandas_hdf_data.h5\", 'year_mix')\n",
    "store = pd.HDFStore(\"archive/pandas_hdf_data.h5\")\n",
    "# del store['/year_min']\n",
    "store.keys()\n",
    "store.close()"
   ]
  },
  {
   "cell_type": "code",
   "execution_count": 13,
   "metadata": {},
   "outputs": [],
   "source": [
    "data = pd.read_csv(\"archive/russian_passenger_latest4years.csv\")\n",
    "group = data.groupby('Year')\n",
    "year_min, year_max = group.max(), group.min()\n",
    "\n",
    "store = pd.HDFStore(\"archive/pandas_hdf_data.h5\")\n",
    "store.put('year_min', year_min)\n",
    "store.close()"
   ]
  },
  {
   "cell_type": "code",
   "execution_count": 14,
   "metadata": {},
   "outputs": [
    {
     "data": {
      "text/plain": [
       "['/year_data', '/year_max', '/year_min']"
      ]
     },
     "execution_count": 14,
     "metadata": {},
     "output_type": "execute_result"
    }
   ],
   "source": [
    "store = pd.HDFStore(\"archive/pandas_hdf_data.h5\")\n",
    "store.keys()"
   ]
  }
 ],
 "metadata": {
  "kernelspec": {
   "display_name": "Python 3",
   "language": "python",
   "name": "python3"
  },
  "language_info": {
   "codemirror_mode": {
    "name": "ipython",
    "version": 3
   },
   "file_extension": ".py",
   "mimetype": "text/x-python",
   "name": "python",
   "nbconvert_exporter": "python",
   "pygments_lexer": "ipython3",
   "version": "3.7.3"
  }
 },
 "nbformat": 4,
 "nbformat_minor": 2
}

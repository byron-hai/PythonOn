{
 "cells": [
  {
   "cell_type": "markdown",
   "metadata": {},
   "source": [
    "## Graph"
   ]
  },
  {
   "cell_type": "markdown",
   "metadata": {},
   "source": [
    "#### [GRAPH DATA STRUCTURE](https://www.bogotobogo.com/python/python_graph_data_structures.php)"
   ]
  },
  {
   "cell_type": "markdown",
   "metadata": {},
   "source": [
    "#### [Python - Graph Algorithms](https://www.tutorialspoint.com/python_data_structure/python_graph_algorithms.htm#:~:text=Python%20-%20Graph%20Algorithms%20-%20Graphs%20are%20very,example%20computer%20network%20topology%20or%20analysing%20molecular%20structure)"
   ]
  },
  {
   "cell_type": "code",
   "execution_count": 18,
   "metadata": {},
   "outputs": [
    {
     "name": "stdout",
     "output_type": "stream",
     "text": [
      "True\n",
      "{'a': {'b', 'c'}, 'b': {'a', 'd', 'e'}, 'c': {'a', 'e', 'f'}, 'd': {'b', 'f'}, 'e': {'b', 'c', 'f'}, 'f': {'c', 'd', 'e'}}\n",
      "True\n",
      "1\n"
     ]
    }
   ],
   "source": [
    "\"\"\"\n",
    "       A\n",
    "     /   \\\n",
    "   B       C\n",
    "   | \\   / |\n",
    "   |  \\ /  |\n",
    "   D   \\   |\n",
    "   |  / \\  |\n",
    "   |/    \\ |\n",
    "   F ----- E\n",
    "\"\"\"\n",
    "## 1) Represent by list\n",
    "a, b, c, d, e, f = range(6)\n",
    "G1 = [['b', 'c'], ['a', 'd', 'e'], ['a', 'e', 'f'], ['B', 'F'], \n",
    "      ['b', 'c', 'f'], ['c', 'd', 'e']]\n",
    "print('b' in G1[a])\n",
    "\n",
    "## 2) Represent by Dict\n",
    "G2 = {'a': set('bc'), 'b': set('ade'), 'c': set('aef'), 'd': set('bf'),\n",
    "      'e': set('bcf'), 'f': set('cde')}\n",
    "print(G2)\n",
    "print('c' in G2['f'])\n",
    "\n",
    "## 3) Represent by matrics\n",
    "## \n",
    "\"\"\"\n",
    "  a b c d e f\n",
    "a 0 1 1 0 0 0\n",
    "b 1 0 0 1 1 0\n",
    "c 1 0 0 0 1 1\n",
    "d 0 1 0 0 0 1\n",
    "e 0 1 1 0 0 1\n",
    "f 0 0 1 1 1 0\n",
    "\"\"\"\n",
    "G3 = [[0,1,1,0,0,0], [1,0,0,1,1,0], [1,0,0,0,1,1], \n",
    "      [0,1,0,0,0,1], [0,1,1,0,0,1], [0,0,1,1,1,0]]\n",
    "print(G3[f][e])\n"
   ]
  },
  {
   "cell_type": "code",
   "execution_count": 60,
   "metadata": {},
   "outputs": [],
   "source": [
    "class Graph:\n",
    "    def __init__(self, gdict=None):\n",
    "        self.gdict = gdict if gdict else dict()\n",
    "        \n",
    "    def dfs(self, node, visited=None):\n",
    "        if visited is None:\n",
    "            visited = set()\n",
    "            \n",
    "        visited.add(node)\n",
    "        print(node)\n",
    "\n",
    "        for item in self.gdict[node]:\n",
    "            if item not in visited:\n",
    "                self.dfs(item, visited)\n",
    "        return\n",
    "        \n",
    "    def bfs(self, node):\n",
    "        visited = set()\n",
    "        queue = []\n",
    "        queue.append(node)\n",
    "        while queue:\n",
    "            node = queue.pop(0)\n",
    "            if node not in visited:\n",
    "                print(node)\n",
    "                visited.add(node)\n",
    "\n",
    "            for item in self.gdict[node]:\n",
    "                if item not in visited:\n",
    "                    queue.append(item)\n",
    "        return"
   ]
  },
  {
   "cell_type": "code",
   "execution_count": 61,
   "metadata": {},
   "outputs": [
    {
     "name": "stdout",
     "output_type": "stream",
     "text": [
      "DFS:\n",
      "a\n",
      "b\n",
      "d\n",
      "f\n",
      "c\n",
      "e\n",
      "BFS:\n",
      "a\n",
      "b\n",
      "c\n",
      "d\n",
      "e\n",
      "f\n"
     ]
    }
   ],
   "source": [
    "graph = Graph(G2)\n",
    "print(\"DFS:\")\n",
    "graph.dfs('a')\n",
    "print(\"BFS:\")\n",
    "graph.bfs('a')\n"
   ]
  },
  {
   "cell_type": "code",
   "execution_count": null,
   "metadata": {},
   "outputs": [],
   "source": []
  }
 ],
 "metadata": {
  "kernelspec": {
   "display_name": "Python 3",
   "language": "python",
   "name": "python3"
  },
  "language_info": {
   "codemirror_mode": {
    "name": "ipython",
    "version": 3
   },
   "file_extension": ".py",
   "mimetype": "text/x-python",
   "name": "python",
   "nbconvert_exporter": "python",
   "pygments_lexer": "ipython3",
   "version": "3.7.3"
  }
 },
 "nbformat": 4,
 "nbformat_minor": 2
}

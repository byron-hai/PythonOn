{
 "cells": [
  {
   "cell_type": "markdown",
   "metadata": {},
   "source": [
    "## Tree"
   ]
  },
  {
   "cell_type": "markdown",
   "metadata": {},
   "source": [
    "### General tree"
   ]
  },
  {
   "cell_type": "markdown",
   "metadata": {},
   "source": [
    "### Binary tree"
   ]
  },
  {
   "cell_type": "markdown",
   "metadata": {},
   "source": [
    "#### References:\n",
    "[Tree python](https://www.pythonf.cn/read/602)"
   ]
  },
  {
   "cell_type": "code",
   "execution_count": 31,
   "metadata": {},
   "outputs": [],
   "source": [
    "class Node:\n",
    "    def __init__(self, data=None):\n",
    "        self.data = data\n",
    "        self.left = None\n",
    "        self.right = None\n",
    "\n",
    "    def __repr__(self):\n",
    "        return f\"{self.data}\""
   ]
  },
  {
   "cell_type": "code",
   "execution_count": 32,
   "metadata": {},
   "outputs": [],
   "source": [
    "\n",
    "class BT:\n",
    "    def __init__(self):\n",
    "        self.root = None\n",
    "    \n",
    "    def is_leaf(self):\n",
    "        return self.left is None and self.right is None\n",
    "    \n",
    "    def insert(self, data):\n",
    "        node = Node(data)\n",
    "        if not self.root:\n",
    "            self.root = node\n",
    "            return\n",
    "        \n",
    "        queue = [self.root]\n",
    "        while queue:\n",
    "            cur_node = queue.pop(0)\n",
    "            if not cur_node.left:\n",
    "                cur_node.left = node\n",
    "                return\n",
    "            queue.append(cur_node.left)\n",
    "            \n",
    "            if not cur_node.right:\n",
    "                cur_node.right = node\n",
    "                return\n",
    "            queue.append(cur_node.right)\n",
    "        else:\n",
    "            queue.append(self.left)\n",
    "            \n",
    "\n",
    "    def delete(self):\n",
    "        pass\n",
    "            \n",
    "    def breadth_traveral(self):\n",
    "        \"\"\" Traveral: Low Level -> High level \"\"\"\n",
    "        if not self.root:\n",
    "            print(\"Tree is empty\")\n",
    "            return\n",
    "   \n",
    "        queue = [self.root]\n",
    "    \n",
    "        while queue:\n",
    "            cur_node = queue.pop(0)\n",
    "            print(cur_node.data)\n",
    "            \n",
    "            if cur_node.left:\n",
    "                queue.append(cur_node.left)\n",
    "            if cur_node.right:\n",
    "                queue.append(cur_node.right)\n",
    "    \n",
    "    def preorder(self, node):\n",
    "        \"\"\" Traveral: Root -> Left -> Right \"\"\"\n",
    "        cur_node = node\n",
    "        if not cur_node:\n",
    "            return\n",
    "        \n",
    "        print(cur_node.data)\n",
    "        self.preorder(cur_node.left)\n",
    "        self.preorder(cur_node.right)\n",
    "    \n",
    "    def inorder(self, node):\n",
    "        \"\"\" Traveral: Left -> Root -> Right \"\"\"\n",
    "        cur_node = node\n",
    "        if not cur_node:\n",
    "            return\n",
    "        \n",
    "        self.inorder(cur_node.left)\n",
    "        print(cur_node.data)\n",
    "        self.inorder(cur_node.right)\n",
    "    \n",
    "    def postorder(self, node):\n",
    "        \"\"\" Traveral: Left -> Right -> Root \"\"\"\n",
    "        cur_node = node\n",
    "        if not cur_node:\n",
    "            return\n",
    "        \n",
    "        self.postorder(cur_node.left)\n",
    "        self.postorder(cur_node.right)\n",
    "        print(cur_node.data)    "
   ]
  },
  {
   "cell_type": "code",
   "execution_count": 33,
   "metadata": {},
   "outputs": [
    {
     "name": "stdout",
     "output_type": "stream",
     "text": [
      "root\n",
      "Left child\n",
      "left grandchild\n"
     ]
    }
   ],
   "source": [
    "n0 = Node(\"root\")\n",
    "n1 = Node(\"Left child\")\n",
    "n2 = Node(\"Right child\")\n",
    "n3 = Node(\"left grandchild\")\n",
    "\n",
    "n0.left = n1\n",
    "n0.right = n2\n",
    "n1.left = n3\n",
    "current = n0\n",
    "while current:\n",
    "    print(current.data)\n",
    "    current = current.left"
   ]
  },
  {
   "cell_type": "code",
   "execution_count": 34,
   "metadata": {},
   "outputs": [
    {
     "name": "stdout",
     "output_type": "stream",
     "text": [
      "Traverse: BFS:\n",
      "1\n",
      "2\n",
      "3\n",
      "4\n",
      "5\n",
      "6\n",
      "Traverse: Preorder:\n",
      "1\n",
      "2\n",
      "4\n",
      "5\n",
      "3\n",
      "6\n",
      "Traverse: Postorder:\n",
      "4\n",
      "5\n",
      "2\n",
      "6\n",
      "3\n",
      "1\n",
      "Traverse: Inorder:\n",
      "4\n",
      "2\n",
      "5\n",
      "1\n",
      "6\n",
      "3\n"
     ]
    }
   ],
   "source": [
    "bt = BT()\n",
    "bt.insert(1)\n",
    "bt.insert(2)\n",
    "bt.insert(3)\n",
    "bt.insert(4)\n",
    "bt.insert(5)\n",
    "bt.insert(6)\n",
    "print(\"Traverse: BFS:\")\n",
    "bt.breadth_traveral()\n",
    "print(\"Traverse: Preorder:\")\n",
    "bt.preorder(bt.root)\n",
    "print(\"Traverse: Postorder:\")\n",
    "bt.postorder(bt.root)\n",
    "print(\"Traverse: Inorder:\")\n",
    "bt.inorder(bt.root)"
   ]
  },
  {
   "cell_type": "markdown",
   "metadata": {},
   "source": [
    "### BST(Binary search tree)"
   ]
  },
  {
   "cell_type": "code",
   "execution_count": 45,
   "metadata": {},
   "outputs": [],
   "source": [
    "## Properities\n",
    "## 1) value of Left node <= value of root node\n",
    "## 2) value of right node > value of root node\n",
    "## 3) Both left and right are BST as well\n",
    "\n",
    "class BST(BT):\n",
    "    def insert(self, value):\n",
    "        node = Node(value)\n",
    "        \n",
    "        if not self.root:\n",
    "            self.root = node\n",
    "            return\n",
    "        \n",
    "        current = self.root\n",
    "        while True:\n",
    "            if value <= current.data:\n",
    "                if current.left:\n",
    "                    current = current.left\n",
    "                else:\n",
    "                    current.left = node\n",
    "                    break\n",
    "            elif value > current.data:\n",
    "                if current.right:\n",
    "                    current = current.right\n",
    "                else:\n",
    "                    current.right = node\n",
    "                    break\n",
    "                    \n",
    "    def search(self, data):\n",
    "        queue = [self.root]\n",
    "        while queue:\n",
    "            cur_node = queue.pop(0)\n",
    "            if cur_node.data == data:\n",
    "                print(\"Found \", data)\n",
    "                return data\n",
    "            \n",
    "            if cur_node.right and data >= cur_node.right.data:\n",
    "                queue.append(cur_node.right)\n",
    "            elif cur_node.left and data <= cur_node.left.data:\n",
    "                queue.append(cur_node.left)\n",
    "        print(f\"Target {data} not found\")\n",
    "        return False\n",
    "    \n",
    "    def search2(self, data):\n",
    "        current = self.root\n",
    "        while True:\n",
    "            if data == current.data:\n",
    "                print(\"Found \", data)\n",
    "                return True\n",
    "            \n",
    "            elif current.left and data <= current.left.data:\n",
    "                current = current.left\n",
    "            elif current.right and data >= current.right.data:\n",
    "                current = current.right\n",
    "            else:\n",
    "                break\n",
    "            \n",
    "        print(f\"Target {data} not found\")\n",
    "        return False"
   ]
  },
  {
   "cell_type": "code",
   "execution_count": 48,
   "metadata": {},
   "outputs": [
    {
     "name": "stdout",
     "output_type": "stream",
     "text": [
      "4\n",
      "5\n",
      "10\n",
      "11\n",
      "17\n",
      "22\n",
      "37\n",
      "Found  17\n"
     ]
    },
    {
     "data": {
      "text/plain": [
       "True"
      ]
     },
     "execution_count": 48,
     "metadata": {},
     "output_type": "execute_result"
    }
   ],
   "source": [
    "bst = BST()\n",
    "bst.insert(5)\n",
    "bst.insert(4)\n",
    "bst.insert(11)\n",
    "bst.insert(17)\n",
    "bst.insert(10)\n",
    "bst.insert(37)\n",
    "bst.insert(22)\n",
    "bst.inorder(bst.root)\n",
    "bst.search2(17)"
   ]
  }
 ],
 "metadata": {
  "kernelspec": {
   "display_name": "Python 3",
   "language": "python",
   "name": "python3"
  },
  "language_info": {
   "codemirror_mode": {
    "name": "ipython",
    "version": 3
   },
   "file_extension": ".py",
   "mimetype": "text/x-python",
   "name": "python",
   "nbconvert_exporter": "python",
   "pygments_lexer": "ipython3",
   "version": "3.7.3"
  }
 },
 "nbformat": 4,
 "nbformat_minor": 2
}

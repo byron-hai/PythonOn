{
 "cells": [
  {
   "cell_type": "markdown",
   "metadata": {},
   "source": [
    "## Dynamic programming"
   ]
  },
  {
   "cell_type": "markdown",
   "metadata": {},
   "source": [
    "#### [Ref: https://skerritt.blog/dynamic-programming/](https://skerritt.blog/dynamic-programming/)"
   ]
  },
  {
   "cell_type": "markdown",
   "metadata": {},
   "source": [
    "### E.g.: Fabonacci"
   ]
  },
  {
   "cell_type": "code",
   "execution_count": 22,
   "metadata": {},
   "outputs": [],
   "source": [
    "\"\"\"\n",
    "Fabonacci\n",
    "0 1 1 2 \n",
    "\n",
    "N fab\n",
    "0 1\n",
    "1 1\n",
    "2 2\n",
    "3 3\n",
    "4 5\n",
    "5 8\n",
    "6 13\n",
    "\n",
    "\"\"\"\n",
    "# Use divide and conquer\n",
    "def fab1(n):\n",
    "    if n < 2:\n",
    "        return 1\n",
    "    else:\n",
    "        return fab1(n - 1) + fab1(n - 2) \n",
    "\n",
    "# Dynamic programming\n",
    "def fab_dynamic(n):\n",
    "    mem = []\n",
    "    mem.extend([1, 1])\n",
    "\n",
    "    for i in range(2, n + 1):\n",
    "        mem.append(mem[i - 1] + mem[i-2])\n",
    "    print(mem)\n",
    "    return mem[n]\n"
   ]
  },
  {
   "cell_type": "code",
   "execution_count": 23,
   "metadata": {},
   "outputs": [
    {
     "name": "stdout",
     "output_type": "stream",
     "text": [
      "[1, 1, 2, 3, 5, 8, 13]\n"
     ]
    },
    {
     "data": {
      "text/plain": [
       "13"
      ]
     },
     "execution_count": 23,
     "metadata": {},
     "output_type": "execute_result"
    }
   ],
   "source": [
    "#fab_dynamic(3)\n",
    "fab_dynamic(6)\n"
   ]
  },
  {
   "cell_type": "code",
   "execution_count": null,
   "metadata": {},
   "outputs": [],
   "source": []
  },
  {
   "cell_type": "code",
   "execution_count": null,
   "metadata": {},
   "outputs": [],
   "source": []
  }
 ],
 "metadata": {
  "kernelspec": {
   "display_name": "Python 3",
   "language": "python",
   "name": "python3"
  },
  "language_info": {
   "codemirror_mode": {
    "name": "ipython",
    "version": 3
   },
   "file_extension": ".py",
   "mimetype": "text/x-python",
   "name": "python",
   "nbconvert_exporter": "python",
   "pygments_lexer": "ipython3",
   "version": "3.7.3"
  }
 },
 "nbformat": 4,
 "nbformat_minor": 2
}

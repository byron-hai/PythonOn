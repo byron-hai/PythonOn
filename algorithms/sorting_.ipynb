{
 "cells": [
  {
   "cell_type": "markdown",
   "metadata": {},
   "source": [
    "## Sorting"
   ]
  },
  {
   "cell_type": "markdown",
   "metadata": {},
   "source": [
    "#### [Python - Sorting Algorithms](https://www.tutorialspoint.com/python_data_structure/python_sorting_algorithms.htm)"
   ]
  },
  {
   "cell_type": "markdown",
   "metadata": {},
   "source": [
    "### Bubble sort"
   ]
  },
  {
   "cell_type": "code",
   "execution_count": 5,
   "metadata": {},
   "outputs": [],
   "source": [
    "## Test\n",
    "import random"
   ]
  },
  {
   "cell_type": "code",
   "execution_count": 46,
   "metadata": {},
   "outputs": [],
   "source": [
    "def bubble_sort(arr):\n",
    "    \"\"\" \n",
    "    Each pair of adjacent elements is compared and the elements are swapped \n",
    "    if they are not in order\n",
    "    \"\"\"\n",
    "    for i in range(len(arr) - 1, 0, -1):\n",
    "        for j in range(i):\n",
    "            if arr[j] > arr[j + 1]:\n",
    "                arr[j], arr[j+1] = arr[j+1], arr[j]\n",
    "            print(arr)\n",
    "    return arr"
   ]
  },
  {
   "cell_type": "code",
   "execution_count": 60,
   "metadata": {},
   "outputs": [
    {
     "name": "stdout",
     "output_type": "stream",
     "text": [
      "Org:  [19, 18, 25, 13, 23, 21, 14, 8]\n",
      "[18, 19, 25, 13, 23, 21, 14, 8]\n",
      "[18, 19, 25, 13, 23, 21, 14, 8]\n",
      "[18, 19, 13, 25, 23, 21, 14, 8]\n",
      "[18, 19, 13, 23, 25, 21, 14, 8]\n",
      "[18, 19, 13, 23, 21, 25, 14, 8]\n",
      "[18, 19, 13, 23, 21, 14, 25, 8]\n",
      "[18, 19, 13, 23, 21, 14, 8, 25]\n",
      "[18, 19, 13, 23, 21, 14, 8, 25]\n",
      "[18, 13, 19, 23, 21, 14, 8, 25]\n",
      "[18, 13, 19, 23, 21, 14, 8, 25]\n",
      "[18, 13, 19, 21, 23, 14, 8, 25]\n",
      "[18, 13, 19, 21, 14, 23, 8, 25]\n",
      "[18, 13, 19, 21, 14, 8, 23, 25]\n",
      "[13, 18, 19, 21, 14, 8, 23, 25]\n",
      "[13, 18, 19, 21, 14, 8, 23, 25]\n",
      "[13, 18, 19, 21, 14, 8, 23, 25]\n",
      "[13, 18, 19, 14, 21, 8, 23, 25]\n",
      "[13, 18, 19, 14, 8, 21, 23, 25]\n",
      "[13, 18, 19, 14, 8, 21, 23, 25]\n",
      "[13, 18, 19, 14, 8, 21, 23, 25]\n",
      "[13, 18, 14, 19, 8, 21, 23, 25]\n",
      "[13, 18, 14, 8, 19, 21, 23, 25]\n",
      "[13, 18, 14, 8, 19, 21, 23, 25]\n",
      "[13, 14, 18, 8, 19, 21, 23, 25]\n",
      "[13, 14, 8, 18, 19, 21, 23, 25]\n",
      "[13, 14, 8, 18, 19, 21, 23, 25]\n",
      "[13, 8, 14, 18, 19, 21, 23, 25]\n",
      "[8, 13, 14, 18, 19, 21, 23, 25]\n"
     ]
    },
    {
     "data": {
      "text/plain": [
       "[8, 13, 14, 18, 19, 21, 23, 25]"
      ]
     },
     "execution_count": 60,
     "metadata": {},
     "output_type": "execute_result"
    }
   ],
   "source": [
    "arr = random.sample(range(30), 8)\n",
    "print(\"Org: \", arr)\n",
    "bubble_sort(arr)"
   ]
  },
  {
   "cell_type": "markdown",
   "metadata": {},
   "source": [
    "### Insertion sort"
   ]
  },
  {
   "cell_type": "code",
   "execution_count": 57,
   "metadata": {},
   "outputs": [],
   "source": [
    "def insertion_sort(arr):\n",
    "    \"\"\"\n",
    "    Pick up a number from the second orderly\n",
    "    Compare it with left part\n",
    "    inset it in this part and make sure the left is sorted\n",
    "    next number\n",
    "    \"\"\"\n",
    "    for i in range(1, len(arr)):\n",
    "        for j in range(i):\n",
    "            if arr[j] > arr[i]:\n",
    "                arr[j], arr[i] = arr[i], arr[j]\n",
    "            print(arr)     \n",
    "    return arr"
   ]
  },
  {
   "cell_type": "code",
   "execution_count": 59,
   "metadata": {},
   "outputs": [
    {
     "name": "stdout",
     "output_type": "stream",
     "text": [
      "Org:  [12, 6, 22, 14, 13, 24, 8, 11]\n",
      "[6, 12, 22, 14, 13, 24, 8, 11]\n",
      "[6, 12, 22, 14, 13, 24, 8, 11]\n",
      "[6, 12, 22, 14, 13, 24, 8, 11]\n",
      "[6, 12, 22, 14, 13, 24, 8, 11]\n",
      "[6, 12, 22, 14, 13, 24, 8, 11]\n",
      "[6, 12, 14, 22, 13, 24, 8, 11]\n",
      "[6, 12, 14, 22, 13, 24, 8, 11]\n",
      "[6, 12, 14, 22, 13, 24, 8, 11]\n",
      "[6, 12, 13, 22, 14, 24, 8, 11]\n",
      "[6, 12, 13, 14, 22, 24, 8, 11]\n",
      "[6, 12, 13, 14, 22, 24, 8, 11]\n",
      "[6, 12, 13, 14, 22, 24, 8, 11]\n",
      "[6, 12, 13, 14, 22, 24, 8, 11]\n",
      "[6, 12, 13, 14, 22, 24, 8, 11]\n",
      "[6, 12, 13, 14, 22, 24, 8, 11]\n",
      "[6, 12, 13, 14, 22, 24, 8, 11]\n",
      "[6, 8, 13, 14, 22, 24, 12, 11]\n",
      "[6, 8, 12, 14, 22, 24, 13, 11]\n",
      "[6, 8, 12, 13, 22, 24, 14, 11]\n",
      "[6, 8, 12, 13, 14, 24, 22, 11]\n",
      "[6, 8, 12, 13, 14, 22, 24, 11]\n",
      "[6, 8, 12, 13, 14, 22, 24, 11]\n",
      "[6, 8, 12, 13, 14, 22, 24, 11]\n",
      "[6, 8, 11, 13, 14, 22, 24, 12]\n",
      "[6, 8, 11, 12, 14, 22, 24, 13]\n",
      "[6, 8, 11, 12, 13, 22, 24, 14]\n",
      "[6, 8, 11, 12, 13, 14, 24, 22]\n",
      "[6, 8, 11, 12, 13, 14, 22, 24]\n"
     ]
    },
    {
     "data": {
      "text/plain": [
       "[6, 8, 11, 12, 13, 14, 22, 24]"
      ]
     },
     "execution_count": 59,
     "metadata": {},
     "output_type": "execute_result"
    }
   ],
   "source": [
    "arr = random.sample(range(30), 8)\n",
    "print(\"Org: \", arr)\n",
    "insertion_sort(arr)"
   ]
  },
  {
   "cell_type": "markdown",
   "metadata": {},
   "source": [
    "### Selection sort"
   ]
  },
  {
   "cell_type": "code",
   "execution_count": 18,
   "metadata": {},
   "outputs": [],
   "source": [
    "def selection_sort(arr):\n",
    "    \"\"\" Find out the smallest/biggest and put it in left/right one by one \"\"\"\n",
    "    for i in range(len(arr)):\n",
    "        for j in range(len(arr) - 1, i, -1):\n",
    "            if arr[j] < arr[i]:\n",
    "                arr[i], arr[j] = arr[j], arr[i]\n",
    "        print(arr)\n",
    "        \n",
    "    return arr"
   ]
  },
  {
   "cell_type": "code",
   "execution_count": 19,
   "metadata": {},
   "outputs": [
    {
     "name": "stdout",
     "output_type": "stream",
     "text": [
      "Org:  [10, 5, 29, 14, 11, 12, 16, 7]\n",
      "[5, 7, 29, 14, 11, 12, 16, 10]\n",
      "[5, 7, 29, 14, 11, 12, 16, 10]\n",
      "[5, 7, 10, 14, 11, 12, 16, 29]\n",
      "[5, 7, 10, 11, 12, 14, 16, 29]\n",
      "[5, 7, 10, 11, 12, 14, 16, 29]\n",
      "[5, 7, 10, 11, 12, 14, 16, 29]\n",
      "[5, 7, 10, 11, 12, 14, 16, 29]\n",
      "[5, 7, 10, 11, 12, 14, 16, 29]\n"
     ]
    },
    {
     "data": {
      "text/plain": [
       "[5, 7, 10, 11, 12, 14, 16, 29]"
      ]
     },
     "execution_count": 19,
     "metadata": {},
     "output_type": "execute_result"
    }
   ],
   "source": [
    "arr = random.sample(range(30), 8)\n",
    "print(\"Org: \", arr)\n",
    "selection_sort(arr)"
   ]
  },
  {
   "cell_type": "markdown",
   "metadata": {},
   "source": [
    "### Merge sort"
   ]
  },
  {
   "cell_type": "code",
   "execution_count": 32,
   "metadata": {},
   "outputs": [],
   "source": [
    "def merge_sort(arr):\n",
    "    \"\"\"\n",
    "    Merge sort divides the list in half to create two unsorted lists. \n",
    "    These two unsorted lists are sorted and merged by continually calling the merge-sort algorithm, \n",
    "    until you get a list of size 1.\n",
    "    \n",
    "    E.x.:\n",
    "    4 6 5 2 8 3 7 1 9\n",
    "    4 6 5 2   8 3 7 1 9\n",
    "    4 6   5 2   8 3   7 1 9\n",
    "    [4, 6] [5, 2] [8, 3] [7] [1, 9]\n",
    "\n",
    "    4 6   2 5   3 8   7   1 9\n",
    "    2 4 5 6     3 8   1 7 9\n",
    "    2 4 5 6     1 3 7 8 9\n",
    "    1 2 3 4 5 6 7 8 9\n",
    "    \"\"\"\n",
    "    if len(arr) < 2:\n",
    "        return arr\n",
    " \n",
    "    mid = len(arr) // 2\n",
    "    left, right = None, None\n",
    "    if arr[:mid]:\n",
    "        left = merge_sort(arr[:mid])\n",
    "    if arr[mid:]:\n",
    "        right = merge_sort(arr[mid:])\n",
    "\n",
    "    ## merge and sort\n",
    "    if not left or not right:\n",
    "        return left or right\n",
    "    # create a new list, put the bigger one from left or right to this list one by one\n",
    "    result = []\n",
    "    while left and right:\n",
    "        if left[-1] >= right[-1]:\n",
    "            result.append(left.pop())\n",
    "        else:\n",
    "            result.append(right.pop())\n",
    "    result.reverse()\n",
    "    return (left or right) + result"
   ]
  },
  {
   "cell_type": "code",
   "execution_count": 33,
   "metadata": {},
   "outputs": [
    {
     "name": "stdout",
     "output_type": "stream",
     "text": [
      "Org:  [8, 14, 5, 15, 3, 29, 12, 9]\n"
     ]
    },
    {
     "data": {
      "text/plain": [
       "[3, 5, 8, 9, 12, 14, 15, 29]"
      ]
     },
     "execution_count": 33,
     "metadata": {},
     "output_type": "execute_result"
    }
   ],
   "source": [
    "arr = random.sample(range(30), 8)\n",
    "print(\"Org: \", arr)\n",
    "merge_sort(arr)"
   ]
  },
  {
   "cell_type": "markdown",
   "metadata": {},
   "source": [
    "### Quick sort"
   ]
  },
  {
   "cell_type": "code",
   "execution_count": 148,
   "metadata": {},
   "outputs": [],
   "source": [
    "def quick_sort(arr):\n",
    "    \"\"\"\n",
    "    Recursively choose the middle value of set and divide them into two groups, \n",
    "    then sort and merge.\n",
    "    \n",
    "    4 6 5 2 8 3 7 1 9\n",
    "    4 6 5 2 3 7 1    8 9\n",
    "    1 2   4 6 5 3 7   8 9\n",
    "    1 2   3 4 5    6 7   8 9\n",
    "    1 2 3 4 5 6 7 8 9\n",
    "    \"\"\"\n",
    "    if len(arr) < 2:\n",
    "        return arr\n",
    "    \n",
    "    mid = len(arr) // 2\n",
    "    mid_val = arr[mid]\n",
    "\n",
    "    #arr = arr[:mid] + arr[mid:]\n",
    "    left = [x for x in arr if x < mid_val] \n",
    "    right = [x for x in arr if x > mid_val]\n",
    "    print(left, right)\n",
    "    # Here if not [mid_val], test will get into dead loops in some conditions\n",
    "    return quick_sort(left) + [mid_val] + quick_sort(right)\n",
    "        "
   ]
  },
  {
   "cell_type": "code",
   "execution_count": 152,
   "metadata": {},
   "outputs": [
    {
     "name": "stdout",
     "output_type": "stream",
     "text": [
      "Org:  [89, 74, 45, 0, 77, 11, 98, 86, 93, 39, 4, 82, 83, 43, 17, 12, 92, 72, 58, 84]\n",
      "[0] [89, 74, 45, 77, 11, 98, 86, 93, 39, 82, 83, 43, 17, 12, 92, 72, 58, 84]\n",
      "[74, 45, 77, 11, 39, 43, 17, 12, 72, 58] [89, 98, 86, 93, 83, 92, 84]\n",
      "[11, 39, 17, 12] [74, 45, 77, 72, 58]\n",
      "[11, 12] [39]\n",
      "[11] []\n",
      "[74, 45, 72, 58] []\n",
      "[45, 58] [74]\n",
      "[45] []\n",
      "[89, 86, 83, 92, 84] [98]\n",
      "[] [89, 86, 92, 84]\n",
      "[89, 86, 84] []\n",
      "[84] [89]\n"
     ]
    },
    {
     "data": {
      "text/plain": [
       "[0, 4, 11, 12, 17, 39, 43, 45, 58, 72, 74, 77, 82, 83, 84, 86, 89, 92, 93, 98]"
      ]
     },
     "execution_count": 152,
     "metadata": {},
     "output_type": "execute_result"
    }
   ],
   "source": [
    "arr = random.sample(range(100), 20)\n",
    "print(\"Org: \", arr)\n",
    "quick_sort(arr)"
   ]
  },
  {
   "cell_type": "markdown",
   "metadata": {},
   "source": [
    "### Heap sort"
   ]
  },
  {
   "cell_type": "code",
   "execution_count": 154,
   "metadata": {},
   "outputs": [],
   "source": [
    "import heapq\n",
    "\n",
    "def heap_sort1(arr):\n",
    "    h = []\n",
    "    for value in arr:\n",
    "        heapq.heappush(h, value)\n",
    "    return [heapq.heappop(h) for i in range(len(h))]\n"
   ]
  },
  {
   "cell_type": "code",
   "execution_count": 155,
   "metadata": {},
   "outputs": [
    {
     "name": "stdout",
     "output_type": "stream",
     "text": [
      "Org:  [53, 35, 13, 28, 57, 41, 9, 67, 19, 74, 49, 82, 32, 33, 81, 2, 85, 77, 87, 40]\n"
     ]
    },
    {
     "data": {
      "text/plain": [
       "[2, 9, 13, 19, 28, 32, 33, 35, 40, 41, 49, 53, 57, 67, 74, 77, 81, 82, 85, 87]"
      ]
     },
     "execution_count": 155,
     "metadata": {},
     "output_type": "execute_result"
    }
   ],
   "source": [
    "arr = random.sample(range(100), 20)\n",
    "print(\"Org: \", arr)\n",
    "heap_sort1(arr)"
   ]
  },
  {
   "cell_type": "code",
   "execution_count": 173,
   "metadata": {},
   "outputs": [],
   "source": [
    "def strToInt(str):\n",
    "        \"\"\"\n",
    "        :type str: str\n",
    "        :rtype: int\n",
    "        \"\"\"\n",
    "        str = str.strip()\n",
    "        num, sign = [], []\n",
    "        if str.startswith('-') or str.startswith('+'):\n",
    "            sign = [str[0]]\n",
    "            str = str[1:]\n",
    "\n",
    "        for i in str:\n",
    "            if i.isdigit():\n",
    "                num.append(i)\n",
    "            else:\n",
    "                break\n",
    "        \n",
    "        num = int(\"\".join(sign + num)) if num else 0\n",
    "        if num < -2**31:\n",
    "            return -2**31\n",
    "        elif num > 2**31 - 1:\n",
    "            return 2**31 - 1\n",
    "        else:\n",
    "            return num"
   ]
  },
  {
   "cell_type": "code",
   "execution_count": 184,
   "metadata": {},
   "outputs": [
    {
     "data": {
      "text/plain": [
       "1"
      ]
     },
     "execution_count": 184,
     "metadata": {},
     "output_type": "execute_result"
    }
   ],
   "source": [
    "k, mask = 111, 1\n",
    "while ((k & mask) == 0): mask <<= 1\n",
    "mask"
   ]
  },
  {
   "cell_type": "code",
   "execution_count": 186,
   "metadata": {},
   "outputs": [
    {
     "name": "stdout",
     "output_type": "stream",
     "text": [
      "2 1\n"
     ]
    }
   ],
   "source": [
    "a,b = 1, 1\n",
    "a, b = a+1, a\n",
    "print(a, b)"
   ]
  },
  {
   "cell_type": "code",
   "execution_count": 187,
   "metadata": {},
   "outputs": [],
   "source": [
    "s= set()\n",
    "s.add(1)"
   ]
  },
  {
   "cell_type": "code",
   "execution_count": 193,
   "metadata": {},
   "outputs": [
    {
     "data": {
      "text/plain": [
       "3"
      ]
     },
     "execution_count": 193,
     "metadata": {},
     "output_type": "execute_result"
    }
   ],
   "source": [
    "s.add(3)\n",
    "list(set({2,3}) - set({2}))[0]"
   ]
  },
  {
   "cell_type": "code",
   "execution_count": 276,
   "metadata": {},
   "outputs": [],
   "source": [
    "def maxProfit(prices):\n",
    "    \"\"\"\n",
    "    :type prices: List[int]\n",
    "    :rtype: int\n",
    "    \"\"\"\n",
    "    p = []\n",
    "    if len(prices) < 2:\n",
    "        return 0\n",
    "    i,j = 1, len(prices) - 1\n",
    "    p_min, p_max = prices[0], prices[j]\n",
    "    while j - i >= 0:\n",
    "        if prices[i] < p_min:\n",
    "            p_min = prices[i]\n",
    "\n",
    "        if prices[i] > p_max:\n",
    "            p_max = prices[i]\n",
    "\n",
    "        p.append(p_max - p_min)\n",
    "        i += 1\n",
    "        \n",
    "    print(p)\n",
    "                \n",
    "    "
   ]
  },
  {
   "cell_type": "code",
   "execution_count": 278,
   "metadata": {},
   "outputs": [
    {
     "name": "stdout",
     "output_type": "stream",
     "text": [
      "[1, 4, 4, 6, 6]\n"
     ]
    }
   ],
   "source": [
    "maxProfit([3,2,6,5,0,3])\n"
   ]
  },
  {
   "cell_type": "code",
   "execution_count": null,
   "metadata": {},
   "outputs": [],
   "source": []
  }
 ],
 "metadata": {
  "kernelspec": {
   "display_name": "Python 3",
   "language": "python",
   "name": "python3"
  },
  "language_info": {
   "codemirror_mode": {
    "name": "ipython",
    "version": 3
   },
   "file_extension": ".py",
   "mimetype": "text/x-python",
   "name": "python",
   "nbconvert_exporter": "python",
   "pygments_lexer": "ipython3",
   "version": "3.7.3"
  }
 },
 "nbformat": 4,
 "nbformat_minor": 2
}
